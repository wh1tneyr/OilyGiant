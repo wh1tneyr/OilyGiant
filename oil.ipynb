{
 "cells": [
  {
   "cell_type": "markdown",
   "metadata": {},
   "source": [
    "# Oily Giant: Predicción Estratégica de Ubicaciones para Pozos Petroleros con Machine Learning\n",
    "\n",
    "#### 0.1. Introducción\n",
    "\n",
    "En este proyecto, desarrollaré un modelo de machine learning para una compañía de petróleo que busca identificar la mejor ubicación para abrir 200 nuevos pozos. El objetivo es analizar los beneficios y riesgos potenciales basados en datos geológicos y muestras de crudo provenientes de tres regiones distintas. El modelo tendrá la tarea de seleccionar la región con el mayor margen de beneficio, ayudando a la empresa a tomar decisiones informadas y estratégicas sobre su expansión. Utilizando técnicas avanzadas de análisis y predicción, se optimizará la distribución de los recursos para maximizar la rentabilidad y minimizar los riesgos operativos.\n",
    "\n",
    "#### Tabla de contenido:\n",
    "\n",
    "1. Preparación de datos\n",
    "- 1.1. Preparación de dataset 0\n",
    "- 1.2. Preparación de dataset 1\n",
    "- 1.3. Preparación de dataset 1\n",
    "2. Funciones\n",
    "- 2.1. Segmentación del conjunto de datos\n",
    "- 2.2. Entrenamiendto de modelo de regresión lineal \n",
    "- 2.3. Cálculo de ganancias\n",
    "- 2.4. Cálculo de ganancias en submuestras del dataset\n",
    "- 2.5. Cálculo de intervalo de confianza y riesgo de pérdidas\n",
    "\n",
    "3. Entrenamiento del modelo\n",
    "- 3.1. Regresión lineal en  dataset 0\n",
    "- 3.2. Regresión lineal en dataset 1\n",
    "- 3.3. Regresión lineal en dataset 2\n",
    "4. Comparación de promedios de reserva mínima en las tres regiones \n",
    "5. Cálculo de ganacias en cada región para los 200 principales pozos de crudo\n",
    "6. Bootstrapping, cálculo de ganancias promedio y riesgos de pérdida\n",
    "- 6.1. Beneficios promedio y riesgo de pérdida en región 0\n",
    "- 6.2. Beneficios promedio y riesgo de pérdida en región 1\n",
    "- 6.3. Beneficios promedio y riesgo de pérdida en región 2\n",
    "7. Visualización\n",
    "- 7.1. Ganancias promedio por región\n",
    "- 7.2. Porcentaje de pérdida por región\n",
    "8. Conclusiones generales"
   ]
  },
  {
   "cell_type": "markdown",
   "metadata": {},
   "source": [
    "## 1. Preparación de datos"
   ]
  },
  {
   "cell_type": "code",
   "execution_count": 1,
   "metadata": {},
   "outputs": [],
   "source": [
    "#importar librerías\n",
    "import pandas as pd\n",
    "import numpy as np\n",
    "from sklearn.metrics import mean_squared_error\n",
    "from sklearn.model_selection import train_test_split\n",
    "import matplotlib.pyplot as plt \n",
    "from sklearn.linear_model import LinearRegression\n"
   ]
  },
  {
   "cell_type": "code",
   "execution_count": 2,
   "metadata": {},
   "outputs": [],
   "source": [
    "#cargar datasets\n",
    "dataset_0 = pd.read_csv('files /data/geo_data_0.csv')\n",
    "dataset_1 = pd.read_csv('files /data/geo_data_1.csv')\n",
    "dataset_2 = pd.read_csv('files /data/geo_data_2.csv')"
   ]
  },
  {
   "cell_type": "markdown",
   "metadata": {},
   "source": [
    "### 1.1. Preparación de dataset 0 "
   ]
  },
  {
   "cell_type": "code",
   "execution_count": 3,
   "metadata": {},
   "outputs": [
    {
     "data": {
      "text/html": [
       "<div>\n",
       "<style scoped>\n",
       "    .dataframe tbody tr th:only-of-type {\n",
       "        vertical-align: middle;\n",
       "    }\n",
       "\n",
       "    .dataframe tbody tr th {\n",
       "        vertical-align: top;\n",
       "    }\n",
       "\n",
       "    .dataframe thead th {\n",
       "        text-align: right;\n",
       "    }\n",
       "</style>\n",
       "<table border=\"1\" class=\"dataframe\">\n",
       "  <thead>\n",
       "    <tr style=\"text-align: right;\">\n",
       "      <th></th>\n",
       "      <th>id</th>\n",
       "      <th>f0</th>\n",
       "      <th>f1</th>\n",
       "      <th>f2</th>\n",
       "      <th>product</th>\n",
       "    </tr>\n",
       "  </thead>\n",
       "  <tbody>\n",
       "    <tr>\n",
       "      <th>0</th>\n",
       "      <td>txEyH</td>\n",
       "      <td>0.705745</td>\n",
       "      <td>-0.497823</td>\n",
       "      <td>1.221170</td>\n",
       "      <td>105.280062</td>\n",
       "    </tr>\n",
       "    <tr>\n",
       "      <th>1</th>\n",
       "      <td>2acmU</td>\n",
       "      <td>1.334711</td>\n",
       "      <td>-0.340164</td>\n",
       "      <td>4.365080</td>\n",
       "      <td>73.037750</td>\n",
       "    </tr>\n",
       "    <tr>\n",
       "      <th>2</th>\n",
       "      <td>409Wp</td>\n",
       "      <td>1.022732</td>\n",
       "      <td>0.151990</td>\n",
       "      <td>1.419926</td>\n",
       "      <td>85.265647</td>\n",
       "    </tr>\n",
       "    <tr>\n",
       "      <th>3</th>\n",
       "      <td>iJLyR</td>\n",
       "      <td>-0.032172</td>\n",
       "      <td>0.139033</td>\n",
       "      <td>2.978566</td>\n",
       "      <td>168.620776</td>\n",
       "    </tr>\n",
       "    <tr>\n",
       "      <th>4</th>\n",
       "      <td>Xdl7t</td>\n",
       "      <td>1.988431</td>\n",
       "      <td>0.155413</td>\n",
       "      <td>4.751769</td>\n",
       "      <td>154.036647</td>\n",
       "    </tr>\n",
       "  </tbody>\n",
       "</table>\n",
       "</div>"
      ],
      "text/plain": [
       "      id        f0        f1        f2     product\n",
       "0  txEyH  0.705745 -0.497823  1.221170  105.280062\n",
       "1  2acmU  1.334711 -0.340164  4.365080   73.037750\n",
       "2  409Wp  1.022732  0.151990  1.419926   85.265647\n",
       "3  iJLyR -0.032172  0.139033  2.978566  168.620776\n",
       "4  Xdl7t  1.988431  0.155413  4.751769  154.036647"
      ]
     },
     "execution_count": 3,
     "metadata": {},
     "output_type": "execute_result"
    }
   ],
   "source": [
    "#visualizar datos\n",
    "dataset_0.head()"
   ]
  },
  {
   "cell_type": "code",
   "execution_count": 4,
   "metadata": {},
   "outputs": [
    {
     "name": "stdout",
     "output_type": "stream",
     "text": [
      "<class 'pandas.core.frame.DataFrame'>\n",
      "RangeIndex: 100000 entries, 0 to 99999\n",
      "Data columns (total 5 columns):\n",
      " #   Column   Non-Null Count   Dtype  \n",
      "---  ------   --------------   -----  \n",
      " 0   id       100000 non-null  object \n",
      " 1   f0       100000 non-null  float64\n",
      " 2   f1       100000 non-null  float64\n",
      " 3   f2       100000 non-null  float64\n",
      " 4   product  100000 non-null  float64\n",
      "dtypes: float64(4), object(1)\n",
      "memory usage: 3.8+ MB\n"
     ]
    }
   ],
   "source": [
    "#visualizar tipo de datos\n",
    "dataset_0.info()"
   ]
  },
  {
   "cell_type": "code",
   "execution_count": 5,
   "metadata": {},
   "outputs": [
    {
     "data": {
      "text/plain": [
       "id         0\n",
       "f0         0\n",
       "f1         0\n",
       "f2         0\n",
       "product    0\n",
       "dtype: int64"
      ]
     },
     "execution_count": 5,
     "metadata": {},
     "output_type": "execute_result"
    }
   ],
   "source": [
    "#verificar datos ausentes\n",
    "dataset_0.isna().sum()"
   ]
  },
  {
   "cell_type": "code",
   "execution_count": 6,
   "metadata": {},
   "outputs": [
    {
     "name": "stdout",
     "output_type": "stream",
     "text": [
      "0\n",
      "10\n"
     ]
    }
   ],
   "source": [
    "#verificar datos duplicados en todo el dataset\n",
    "print(dataset_0.duplicated().sum())\n",
    "\n",
    "#verificar datos duplicados en los id\n",
    "print(dataset_0['id'].duplicated().sum())"
   ]
  },
  {
   "cell_type": "markdown",
   "metadata": {},
   "source": [
    "En el dataset 0 se visualizan tipos de datos correctos en cada columna y no hay datos ausentes. En cuanto a duplicados, en el dataset completo no encontré ninguno, sin embargo, al revisar la columna de IDs únicos, encontré 10 datos duplicados, los cuales voy a eliminar."
   ]
  },
  {
   "cell_type": "code",
   "execution_count": 7,
   "metadata": {},
   "outputs": [
    {
     "data": {
      "text/plain": [
       "0"
      ]
     },
     "execution_count": 7,
     "metadata": {},
     "output_type": "execute_result"
    }
   ],
   "source": [
    "#eliminar datos duplicados de la columna ID\n",
    "dataset_0 = dataset_0.drop_duplicates(subset='id')\n",
    "\n",
    "#verificar nuevamente datos duplicados \n",
    "dataset_0['id'].duplicated().sum()\n"
   ]
  },
  {
   "cell_type": "code",
   "execution_count": 8,
   "metadata": {},
   "outputs": [
    {
     "data": {
      "text/plain": [
       "array([[<Axes: title={'center': 'f0'}>, <Axes: title={'center': 'f1'}>],\n",
       "       [<Axes: title={'center': 'f2'}>,\n",
       "        <Axes: title={'center': 'product'}>]], dtype=object)"
      ]
     },
     "execution_count": 8,
     "metadata": {},
     "output_type": "execute_result"
    },
    {
     "data": {
      "image/png": "[encoded data removed]",
      "text/plain": [
       "<Figure size 640x480 with 4 Axes>"
      ]
     },
     "metadata": {},
     "output_type": "display_data"
    }
   ],
   "source": [
    "#visualizar la frecuencia del dataset 0 con un histograma\n",
    "dataset_0.hist()"
   ]
  },
  {
   "cell_type": "markdown",
   "metadata": {},
   "source": [
    "El dataset \"0\" ya está preparado para trabajar con el. En cuánto a la visualización de los histogramas, en este dataest se aprecia una distribución de datos normal. "
   ]
  },
  {
   "cell_type": "markdown",
   "metadata": {},
   "source": [
    "### 1.2. Preparación de dataset 1"
   ]
  },
  {
   "cell_type": "code",
   "execution_count": 9,
   "metadata": {},
   "outputs": [
    {
     "data": {
      "text/html": [
       "<div>\n",
       "<style scoped>\n",
       "    .dataframe tbody tr th:only-of-type {\n",
       "        vertical-align: middle;\n",
       "    }\n",
       "\n",
       "    .dataframe tbody tr th {\n",
       "        vertical-align: top;\n",
       "    }\n",
       "\n",
       "    .dataframe thead th {\n",
       "        text-align: right;\n",
       "    }\n",
       "</style>\n",
       "<table border=\"1\" class=\"dataframe\">\n",
       "  <thead>\n",
       "    <tr style=\"text-align: right;\">\n",
       "      <th></th>\n",
       "      <th>id</th>\n",
       "      <th>f0</th>\n",
       "      <th>f1</th>\n",
       "      <th>f2</th>\n",
       "      <th>product</th>\n",
       "    </tr>\n",
       "  </thead>\n",
       "  <tbody>\n",
       "    <tr>\n",
       "      <th>0</th>\n",
       "      <td>kBEdx</td>\n",
       "      <td>-15.001348</td>\n",
       "      <td>-8.276000</td>\n",
       "      <td>-0.005876</td>\n",
       "      <td>3.179103</td>\n",
       "    </tr>\n",
       "    <tr>\n",
       "      <th>1</th>\n",
       "      <td>62mP7</td>\n",
       "      <td>14.272088</td>\n",
       "      <td>-3.475083</td>\n",
       "      <td>0.999183</td>\n",
       "      <td>26.953261</td>\n",
       "    </tr>\n",
       "    <tr>\n",
       "      <th>2</th>\n",
       "      <td>vyE1P</td>\n",
       "      <td>6.263187</td>\n",
       "      <td>-5.948386</td>\n",
       "      <td>5.001160</td>\n",
       "      <td>134.766305</td>\n",
       "    </tr>\n",
       "    <tr>\n",
       "      <th>3</th>\n",
       "      <td>KcrkZ</td>\n",
       "      <td>-13.081196</td>\n",
       "      <td>-11.506057</td>\n",
       "      <td>4.999415</td>\n",
       "      <td>137.945408</td>\n",
       "    </tr>\n",
       "    <tr>\n",
       "      <th>4</th>\n",
       "      <td>AHL4O</td>\n",
       "      <td>12.702195</td>\n",
       "      <td>-8.147433</td>\n",
       "      <td>5.004363</td>\n",
       "      <td>134.766305</td>\n",
       "    </tr>\n",
       "  </tbody>\n",
       "</table>\n",
       "</div>"
      ],
      "text/plain": [
       "      id         f0         f1        f2     product\n",
       "0  kBEdx -15.001348  -8.276000 -0.005876    3.179103\n",
       "1  62mP7  14.272088  -3.475083  0.999183   26.953261\n",
       "2  vyE1P   6.263187  -5.948386  5.001160  134.766305\n",
       "3  KcrkZ -13.081196 -11.506057  4.999415  137.945408\n",
       "4  AHL4O  12.702195  -8.147433  5.004363  134.766305"
      ]
     },
     "execution_count": 9,
     "metadata": {},
     "output_type": "execute_result"
    }
   ],
   "source": [
    "#visualizar datos\n",
    "dataset_1.head()"
   ]
  },
  {
   "cell_type": "code",
   "execution_count": 10,
   "metadata": {},
   "outputs": [
    {
     "name": "stdout",
     "output_type": "stream",
     "text": [
      "<class 'pandas.core.frame.DataFrame'>\n",
      "RangeIndex: 100000 entries, 0 to 99999\n",
      "Data columns (total 5 columns):\n",
      " #   Column   Non-Null Count   Dtype  \n",
      "---  ------   --------------   -----  \n",
      " 0   id       100000 non-null  object \n",
      " 1   f0       100000 non-null  float64\n",
      " 2   f1       100000 non-null  float64\n",
      " 3   f2       100000 non-null  float64\n",
      " 4   product  100000 non-null  float64\n",
      "dtypes: float64(4), object(1)\n",
      "memory usage: 3.8+ MB\n"
     ]
    }
   ],
   "source": [
    "#verificar informacion general del dataset\n",
    "dataset_1.info()"
   ]
  },
  {
   "cell_type": "code",
   "execution_count": 11,
   "metadata": {},
   "outputs": [
    {
     "data": {
      "text/plain": [
       "id         0\n",
       "f0         0\n",
       "f1         0\n",
       "f2         0\n",
       "product    0\n",
       "dtype: int64"
      ]
     },
     "execution_count": 11,
     "metadata": {},
     "output_type": "execute_result"
    }
   ],
   "source": [
    "#verificar datos ausentes\n",
    "dataset_1.isna().sum()"
   ]
  },
  {
   "cell_type": "code",
   "execution_count": 12,
   "metadata": {},
   "outputs": [
    {
     "name": "stdout",
     "output_type": "stream",
     "text": [
      "0\n",
      "4\n"
     ]
    }
   ],
   "source": [
    "#verificar datos duplicados en todo el dataset\n",
    "print(dataset_1.duplicated().sum())\n",
    "\n",
    "#verificar datos duplicados en los IDs\n",
    "print(dataset_1['id'].duplicated().sum())"
   ]
  },
  {
   "cell_type": "markdown",
   "metadata": {},
   "source": [
    "En el dataset 1 se visualizan tipos de datos correctos en cada columna y no hay datos ausentes. En cuanto a duplicados, en el dataset completo no encontré ninguno, sin embargo, al revisar la columna de IDs únicos, encontré 4 datos duplicados, los cuales voy a eliminar."
   ]
  },
  {
   "cell_type": "code",
   "execution_count": 13,
   "metadata": {},
   "outputs": [
    {
     "data": {
      "text/plain": [
       "0"
      ]
     },
     "execution_count": 13,
     "metadata": {},
     "output_type": "execute_result"
    }
   ],
   "source": [
    "#eliminar datos duplicados de la columna ID\n",
    "dataset_1 = dataset_1.drop_duplicates(subset='id')\n",
    "\n",
    "#verificar nuevamente datos duplicados \n",
    "dataset_1['id'].duplicated().sum()\n"
   ]
  },
  {
   "cell_type": "code",
   "execution_count": 14,
   "metadata": {},
   "outputs": [
    {
     "data": {
      "text/plain": [
       "array([[<Axes: title={'center': 'f0'}>, <Axes: title={'center': 'f1'}>],\n",
       "       [<Axes: title={'center': 'f2'}>,\n",
       "        <Axes: title={'center': 'product'}>]], dtype=object)"
      ]
     },
     "execution_count": 14,
     "metadata": {},
     "output_type": "execute_result"
    },
    {
     "data": {
      "image/png": "[encoded data removed]",
      "text/plain": [
       "<Figure size 640x480 with 4 Axes>"
      ]
     },
     "metadata": {},
     "output_type": "display_data"
    }
   ],
   "source": [
    "#visualizar la frecuencia del dataset 1 con un histograma\n",
    "dataset_1.hist()"
   ]
  },
  {
   "cell_type": "markdown",
   "metadata": {},
   "source": [
    "En este dataset, se aprecian datos con una distribucion anormal en dos columnas: 'f2' y 'product'. Por otro lado, ya están preparados los datos para trabajar con ellos"
   ]
  },
  {
   "cell_type": "markdown",
   "metadata": {},
   "source": [
    "### 1.3. Preparación de dataset 2"
   ]
  },
  {
   "cell_type": "code",
   "execution_count": 15,
   "metadata": {},
   "outputs": [
    {
     "data": {
      "text/html": [
       "<div>\n",
       "<style scoped>\n",
       "    .dataframe tbody tr th:only-of-type {\n",
       "        vertical-align: middle;\n",
       "    }\n",
       "\n",
       "    .dataframe tbody tr th {\n",
       "        vertical-align: top;\n",
       "    }\n",
       "\n",
       "    .dataframe thead th {\n",
       "        text-align: right;\n",
       "    }\n",
       "</style>\n",
       "<table border=\"1\" class=\"dataframe\">\n",
       "  <thead>\n",
       "    <tr style=\"text-align: right;\">\n",
       "      <th></th>\n",
       "      <th>id</th>\n",
       "      <th>f0</th>\n",
       "      <th>f1</th>\n",
       "      <th>f2</th>\n",
       "      <th>product</th>\n",
       "    </tr>\n",
       "  </thead>\n",
       "  <tbody>\n",
       "    <tr>\n",
       "      <th>0</th>\n",
       "      <td>fwXo0</td>\n",
       "      <td>-1.146987</td>\n",
       "      <td>0.963328</td>\n",
       "      <td>-0.828965</td>\n",
       "      <td>27.758673</td>\n",
       "    </tr>\n",
       "    <tr>\n",
       "      <th>1</th>\n",
       "      <td>WJtFt</td>\n",
       "      <td>0.262778</td>\n",
       "      <td>0.269839</td>\n",
       "      <td>-2.530187</td>\n",
       "      <td>56.069697</td>\n",
       "    </tr>\n",
       "    <tr>\n",
       "      <th>2</th>\n",
       "      <td>ovLUW</td>\n",
       "      <td>0.194587</td>\n",
       "      <td>0.289035</td>\n",
       "      <td>-5.586433</td>\n",
       "      <td>62.871910</td>\n",
       "    </tr>\n",
       "    <tr>\n",
       "      <th>3</th>\n",
       "      <td>q6cA6</td>\n",
       "      <td>2.236060</td>\n",
       "      <td>-0.553760</td>\n",
       "      <td>0.930038</td>\n",
       "      <td>114.572842</td>\n",
       "    </tr>\n",
       "    <tr>\n",
       "      <th>4</th>\n",
       "      <td>WPMUX</td>\n",
       "      <td>-0.515993</td>\n",
       "      <td>1.716266</td>\n",
       "      <td>5.899011</td>\n",
       "      <td>149.600746</td>\n",
       "    </tr>\n",
       "  </tbody>\n",
       "</table>\n",
       "</div>"
      ],
      "text/plain": [
       "      id        f0        f1        f2     product\n",
       "0  fwXo0 -1.146987  0.963328 -0.828965   27.758673\n",
       "1  WJtFt  0.262778  0.269839 -2.530187   56.069697\n",
       "2  ovLUW  0.194587  0.289035 -5.586433   62.871910\n",
       "3  q6cA6  2.236060 -0.553760  0.930038  114.572842\n",
       "4  WPMUX -0.515993  1.716266  5.899011  149.600746"
      ]
     },
     "execution_count": 15,
     "metadata": {},
     "output_type": "execute_result"
    }
   ],
   "source": [
    "#visualizar datos\n",
    "dataset_2.head()"
   ]
  },
  {
   "cell_type": "code",
   "execution_count": 16,
   "metadata": {},
   "outputs": [
    {
     "name": "stdout",
     "output_type": "stream",
     "text": [
      "<class 'pandas.core.frame.DataFrame'>\n",
      "RangeIndex: 100000 entries, 0 to 99999\n",
      "Data columns (total 5 columns):\n",
      " #   Column   Non-Null Count   Dtype  \n",
      "---  ------   --------------   -----  \n",
      " 0   id       100000 non-null  object \n",
      " 1   f0       100000 non-null  float64\n",
      " 2   f1       100000 non-null  float64\n",
      " 3   f2       100000 non-null  float64\n",
      " 4   product  100000 non-null  float64\n",
      "dtypes: float64(4), object(1)\n",
      "memory usage: 3.8+ MB\n"
     ]
    }
   ],
   "source": [
    "#visualizar informacion general del dataset\n",
    "dataset_2.info()"
   ]
  },
  {
   "cell_type": "code",
   "execution_count": 17,
   "metadata": {},
   "outputs": [
    {
     "data": {
      "text/plain": [
       "id         0\n",
       "f0         0\n",
       "f1         0\n",
       "f2         0\n",
       "product    0\n",
       "dtype: int64"
      ]
     },
     "execution_count": 17,
     "metadata": {},
     "output_type": "execute_result"
    }
   ],
   "source": [
    "#verificar datos ausentes\n",
    "dataset_2.isna().sum()"
   ]
  },
  {
   "cell_type": "code",
   "execution_count": 18,
   "metadata": {},
   "outputs": [
    {
     "name": "stdout",
     "output_type": "stream",
     "text": [
      "0\n",
      "4\n"
     ]
    }
   ],
   "source": [
    "#verificar datos duplicados en el dataset completo\n",
    "print(dataset_2.duplicated().sum())\n",
    "\n",
    "#verificar datos duplicados en los IDs\n",
    "print(dataset_2['id'].duplicated().sum())"
   ]
  },
  {
   "cell_type": "markdown",
   "metadata": {},
   "source": [
    "En el dataset 2 se visualizan tipos de datos correctos en cada columna y no hay datos ausentes. En cuanto a duplicados, en el dataset completo no encontré ninguno, sin embargo, al revisar la columna de IDs únicos, encontré 4 datos duplicados, los cuales voy a eliminar."
   ]
  },
  {
   "cell_type": "code",
   "execution_count": 19,
   "metadata": {},
   "outputs": [
    {
     "data": {
      "text/plain": [
       "0"
      ]
     },
     "execution_count": 19,
     "metadata": {},
     "output_type": "execute_result"
    }
   ],
   "source": [
    "#eliminar datos duplicados de la columna ID\n",
    "dataset_2 = dataset_2.drop_duplicates(subset='id')\n",
    "\n",
    "#verificar nuevamente datos duplicados \n",
    "dataset_2['id'].duplicated().sum()\n"
   ]
  },
  {
   "cell_type": "code",
   "execution_count": 20,
   "metadata": {},
   "outputs": [
    {
     "data": {
      "text/plain": [
       "array([[<Axes: title={'center': 'f0'}>, <Axes: title={'center': 'f1'}>],\n",
       "       [<Axes: title={'center': 'f2'}>,\n",
       "        <Axes: title={'center': 'product'}>]], dtype=object)"
      ]
     },
     "execution_count": 20,
     "metadata": {},
     "output_type": "execute_result"
    },
    {
     "data": {
      "image/png": "[encoded data removed]",
      "text/plain": [
       "<Figure size 640x480 with 4 Axes>"
      ]
     },
     "metadata": {},
     "output_type": "display_data"
    }
   ],
   "source": [
    "#visualizar la frecuencia del dataset 2 con un histograma\n",
    "dataset_2.hist()"
   ]
  },
  {
   "cell_type": "markdown",
   "metadata": {},
   "source": [
    "Ya se encuentran los tres datasets preparados para comenzar a trabajar con ellos. En cuanto a la distribución de los datos, parece normal en todas las columnas."
   ]
  },
  {
   "cell_type": "markdown",
   "metadata": {},
   "source": [
    "## 2. Funciones"
   ]
  },
  {
   "cell_type": "markdown",
   "metadata": {},
   "source": [
    "### 2.1. Segmentación del conjunto de datos"
   ]
  },
  {
   "cell_type": "code",
   "execution_count": 21,
   "metadata": {},
   "outputs": [],
   "source": [
    "#funcion para segmentacion de datos\n",
    "def data_seg(features, target):\n",
    "    features_train, features_valid, target_train, target_valid = train_test_split(features, target, test_size=0.25, random_state=12345)\n",
    "    \n",
    "    return features_train, features_valid, target_train, target_valid"
   ]
  },
  {
   "cell_type": "markdown",
   "metadata": {},
   "source": [
    "### 2.2. Entrenamiento de modelo de regresión lineal "
   ]
  },
  {
   "cell_type": "code",
   "execution_count": 22,
   "metadata": {},
   "outputs": [],
   "source": [
    "#funcion para modelo de regresion lineal\n",
    "def linear_regresion_model(features_train, features_valid, target_train, target_valid):\n",
    "\n",
    "    #entrenar un modelo de regresion lineal \n",
    "    model = LinearRegression()\n",
    "    model.fit(features_train, target_train)\n",
    "    \n",
    "    #realizar predicciones con el conjunto de validacion\n",
    "    predictions = model.predict(features_valid)\n",
    "    predictions_valid = pd.Series(predictions)\n",
    "    \n",
    "    #crear un dataframe con target_valid y prediction_valid\n",
    "    data_target_predictions = pd.DataFrame({'prediction_valid': predictions_valid, 'target_valid': target_valid})\n",
    "    data_target_predictions = data_target_predictions.dropna()\n",
    "    \n",
    "    #separar el dataframe concatenado en dos variable\n",
    "    predictions_to_revenue = data_target_predictions['prediction_valid'].sort_values(ascending=False)\n",
    "    target_to_revenue = (data_target_predictions['target_valid'])[predictions_to_revenue.index]\n",
    "    \n",
    "    #calcular el promedio  de las predicciones del modelo\n",
    "    predictions_mean = predictions_valid.mean()\n",
    "    \n",
    "    #calcular promedio de volumen verdadero de reservas\n",
    "    target_valid_mean = target_valid.mean()\n",
    "    \n",
    "    #calcular RMSE del modelo\n",
    "    mse_model = mean_squared_error(target_valid, predictions_valid)\n",
    "    rmse_model = mse_model ** 0.05\n",
    "    \n",
    "    #crear variables con las metricas del modelo\n",
    "    model_metrics = print('Volúmen medio verdadero de reservas en la región:', target_valid_mean),\n",
    "    print('Volúmen medio de reservas predicho por el modelo:', predictions_mean),\n",
    "    print('RMSE del modelo:', rmse_model)\n",
    "        \n",
    "    return model_metrics, predictions_to_revenue, target_to_revenue"
   ]
  },
  {
   "cell_type": "markdown",
   "metadata": {},
   "source": [
    "### 2.3. Cálculo de ganancias"
   ]
  },
  {
   "cell_type": "code",
   "execution_count": 23,
   "metadata": {},
   "outputs": [],
   "source": [
    "#funcion para calcular las ganancias potenciales de los 200 principales pozos por region\n",
    "def wells_revenue(predictions):\n",
    "    \n",
    "    \n",
    "    #calcular la ganancia potencial en las predicciones\n",
    "    wells_volum_sum = predictions.sum()\n",
    "    revenue = wells_volum_sum * 4500 - 100000000\n",
    "    \n",
    "    return revenue"
   ]
  },
  {
   "cell_type": "markdown",
   "metadata": {},
   "source": [
    "### 2.4. Cálculo de ganancias en submuestras del dataset "
   ]
  },
  {
   "cell_type": "code",
   "execution_count": 24,
   "metadata": {},
   "outputs": [],
   "source": [
    "#funcion para crear submuestras con bootstrapping\n",
    "def bootstrap_revenue(predictions):\n",
    "    \n",
    "    state = np.random.RandomState(12345)\n",
    "    values = []\n",
    "    \n",
    "    \n",
    "    for i in range(1000):\n",
    "        subsamples = predictions.sample(n=500, random_state=state, replace=True)\n",
    "        values.append(wells_revenue(subsamples))\n",
    "    \n",
    "    values = pd.Series(values)\n",
    "    \n",
    "    return values"
   ]
  },
  {
   "cell_type": "markdown",
   "metadata": {},
   "source": [
    "### 2.5. Cálculo de intervalo de confianza y riesgo de pérdidas"
   ]
  },
  {
   "cell_type": "code",
   "execution_count": 25,
   "metadata": {},
   "outputs": [],
   "source": [
    "#calcular el benenifio promedio en el bootstrap\n",
    "def confindece_risk_interval(predictions):\n",
    "\n",
    "    #hacer bootstrap de las predicciones\n",
    "    revenue_subsamples = bootstrap_revenue(predictions)\n",
    "\n",
    "    #calcular el beneficio promedio de las muestras\n",
    "    revenue_subsamples_mean = revenue_subsamples.mean()\n",
    "    \n",
    "    #calcular el intervalo de confianza del 95% de las ganancias \n",
    "    lower_quantile = revenue_subsamples.quantile(0.025)\n",
    "    upper_quantile = revenue_subsamples.quantile(0.975)\n",
    "\n",
    "    #calcular el riesgo de pérdidas\n",
    "    risk_percent = (predictions < 0).sum() / 100\n",
    "\n",
    "    return revenue_subsamples, revenue_subsamples_mean, lower_quantile, upper_quantile, risk_percent"
   ]
  },
  {
   "cell_type": "markdown",
   "metadata": {},
   "source": [
    "## 3. Entrenamiento del modelo"
   ]
  },
  {
   "cell_type": "markdown",
   "metadata": {},
   "source": [
    "### 3.1. Regresión lineal en dataset 0"
   ]
  },
  {
   "cell_type": "code",
   "execution_count": 26,
   "metadata": {},
   "outputs": [
    {
     "name": "stdout",
     "output_type": "stream",
     "text": [
      "Volúmen medio verdadero de reservas en la región: 92.15820490940044\n",
      "Volúmen medio de reservas predicho por el modelo: 92.78915638280621\n",
      "RMSE del modelo: 1.4381713586741687\n",
      "Region \"0\" (None,)\n"
     ]
    }
   ],
   "source": [
    "#definir variables para entrenar el modelo en el dataset 0\n",
    "features_0 = dataset_0.drop(['id', 'product'], axis=1)\n",
    "target_0 = dataset_0['product']\n",
    "\n",
    "#segmentar el dataset 0 en conjuntos de entrenamiento y valiacion 75:25\n",
    "features_train_0, features_valid_0, target_train_0, target_valid_0 = data_seg(features_0, target_0)\n",
    "\n",
    "#entrenar modelo en dataset 0\n",
    "model_metrics_0, predictions_to_revenue_0, target_to_revenue_0 = linear_regresion_model(features_train_0, features_valid_0, target_train_0, target_valid_0)\n",
    "\n",
    "print('Region \"0\"', model_metrics_0) "
   ]
  },
  {
   "cell_type": "markdown",
   "metadata": {},
   "source": [
    "Luego de calcular el RMSE para las prediciones del modelo en el dataset 0 y obtener un valor de 1.43, me doy cuenta de que el modelo parece bastante acertado. De modo que el modelo es adecuado para la ejecución de la tarea."
   ]
  },
  {
   "cell_type": "markdown",
   "metadata": {},
   "source": [
    "### 3.2. Regresión lineal en dataset 1"
   ]
  },
  {
   "cell_type": "code",
   "execution_count": 27,
   "metadata": {},
   "outputs": [
    {
     "name": "stdout",
     "output_type": "stream",
     "text": [
      "Volúmen medio verdadero de reservas en la región: 69.18604400957675\n",
      "Volúmen medio de reservas predicho por el modelo: 69.17831957030432\n",
      "RMSE del modelo: 0.988642715640864\n",
      "Region \"1\" (None,)\n"
     ]
    }
   ],
   "source": [
    "#definir variable en dataset 1\n",
    "features_1 = dataset_1.drop(['id', 'product'], axis=1)\n",
    "target_1 = dataset_1['product']\n",
    "\n",
    "#segmentar datos para el dataset 1\n",
    "features_train_1, features_valid_1, target_train_1, target_valid_1 = data_seg(features_1, target_1)\n",
    "\n",
    "#entrenar modelo en dataset 1\n",
    "model_metrics_1, predictions_to_revenue_1, target_to_revenue_1 = linear_regresion_model(features_train_1, features_valid_1, target_train_1, target_valid_1)\n",
    "\n",
    "print('Region \"1\"', model_metrics_1) "
   ]
  },
  {
   "cell_type": "markdown",
   "metadata": {},
   "source": [
    "En el dataset 1 el modelo es más preciso que con el dataset anterior, con un RMSE de 0.98 en las predicciones."
   ]
  },
  {
   "cell_type": "markdown",
   "metadata": {},
   "source": [
    "### 3.3. Regresión lineal en dataset 2"
   ]
  },
  {
   "cell_type": "code",
   "execution_count": 28,
   "metadata": {},
   "outputs": [
    {
     "name": "stdout",
     "output_type": "stream",
     "text": [
      "Volúmen medio verdadero de reservas en la región: 94.7851093536914\n",
      "Volúmen medio de reservas predicho por el modelo: 94.86572480562035\n",
      "RMSE del modelo: 1.4463995400767802\n",
      "Region \"2\" (None,)\n"
     ]
    }
   ],
   "source": [
    "#entrenando el modelo en dataset 2\n",
    "features_2 = dataset_2.drop(['id', 'product'], axis=1)\n",
    "target_2 = dataset_2['product']\n",
    "\n",
    "#segmentar datos para el dataset 2\n",
    "features_train_2, features_valid_2, target_train_2, target_valid_2 = data_seg(features_2, target_2)\n",
    "\n",
    "#entrenar modelo en dataset 1\n",
    "model_metrics_2, predictions_to_revenue_2, target_to_revenue_2 = linear_regresion_model(features_train_2, features_valid_2, target_train_2, target_valid_2)\n",
    "\n",
    "print('Region \"2\"', model_metrics_2)"
   ]
  },
  {
   "cell_type": "markdown",
   "metadata": {},
   "source": [
    "Finalmente, en el dataset 2, el modelo da un RMSE de 1.44 en las predicciones. \n",
    "En los tres casos, el modelo erró entre 0.98 y 1.44. Sin embargo, me parece que el modelo es aceptable en los tres datasets ya que la diferencia no es un número demasiado alto, sobretodo cuando lo comparamos con los volúmenes de reserva máximos con los que estamos trabajando."
   ]
  },
  {
   "cell_type": "markdown",
   "metadata": {},
   "source": [
    "## 4. Comparación de promedios de reserva mínima en las tres regiones"
   ]
  },
  {
   "cell_type": "code",
   "execution_count": 29,
   "metadata": {},
   "outputs": [
    {
     "name": "stdout",
     "output_type": "stream",
     "text": [
      "Cantidad mínima de unidades de reservas para evitar pérdidas: 111.11111111111111\n"
     ]
    }
   ],
   "source": [
    "#almacenar los valores con las condiciones de inversión\n",
    "inversion = 100000000\n",
    "wells_units = 200\n",
    "units_per_well_min = inversion / wells_units / 4500\n",
    "\n",
    "print('Cantidad mínima de unidades de reservas para evitar pérdidas:', units_per_well_min)\n"
   ]
  },
  {
   "cell_type": "code",
   "execution_count": 30,
   "metadata": {},
   "outputs": [
    {
     "name": "stdout",
     "output_type": "stream",
     "text": [
      "Media de unidades de reserva en la región \"0\": 92.49968421774354\n",
      "Media de unidades de reserva en la región \"1\": 68.82391591804064\n",
      "Media de unidades de reserva en la región \"2\": 94.99834211933378\n"
     ]
    }
   ],
   "source": [
    "#calcular la cantidad media de reservas en cada region\n",
    "print('Media de unidades de reserva en la región \"0\":', dataset_0['product'].mean())\n",
    "print('Media de unidades de reserva en la región \"1\":', dataset_1['product'].mean())\n",
    "print('Media de unidades de reserva en la región \"2\":', dataset_2['product'].mean())"
   ]
  },
  {
   "cell_type": "markdown",
   "metadata": {},
   "source": [
    "En promedio, ninguna de las zonas llega al promedio mínimo de reservas de 111.1  que se necesitan para evitar pérdidas en la inversión de 100 millones de dólares."
   ]
  },
  {
   "cell_type": "markdown",
   "metadata": {},
   "source": [
    "## 5. Cálculo de ganacias en cada región para los 200 principales pozos de crudo"
   ]
  },
  {
   "cell_type": "code",
   "execution_count": 31,
   "metadata": {},
   "outputs": [
    {
     "name": "stdout",
     "output_type": "stream",
     "text": [
      "Ganancias potenciales para los 200 principales pozos en la region \"0\": 30429876.617481366\n",
      "Ganancias potenciales para los 200 principales pozos en la region \"1\": 24291231.090974465\n",
      "Ganancias potenciales para los 200 principales pozos en la region \"2\": 25728735.744968355\n"
     ]
    }
   ],
   "source": [
    "#seleccionar los 200 principales pozos por region\n",
    "top_200_predictions_0 = predictions_to_revenue_0.head(200)\n",
    "top_200_predictions_1 = predictions_to_revenue_1.head(200)\n",
    "top_200_predictions_2 = predictions_to_revenue_2.head(200)\n",
    "\n",
    "#calcular las potenciales ganancias\n",
    "revenues_0 = wells_revenue(top_200_predictions_0)\n",
    "revenues_1 = wells_revenue(top_200_predictions_1)\n",
    "revenues_2 = wells_revenue(top_200_predictions_2)\n",
    "\n",
    "print('Ganancias potenciales para los 200 principales pozos en la region \"0\":', revenues_0)\n",
    "print('Ganancias potenciales para los 200 principales pozos en la region \"1\":', revenues_1)\n",
    "print('Ganancias potenciales para los 200 principales pozos en la region \"2\":', revenues_2)\n"
   ]
  },
  {
   "cell_type": "markdown",
   "metadata": {},
   "source": [
    "Luego de calcular las ganancias en las tres regiones obtuve que la mayor cifra la arroja la región \"0\",  con una ganacia potencial de aproximadamente 30 millones de dólares según las prediccines del modelo entrenado."
   ]
  },
  {
   "cell_type": "markdown",
   "metadata": {},
   "source": [
    "## 6. Bootstrapping, cálculo de ganancias promedio y riesgos de pérdida"
   ]
  },
  {
   "cell_type": "markdown",
   "metadata": {},
   "source": [
    "### 6.1. Beneficios promedio y riesgo de pérdida en región 0"
   ]
  },
  {
   "cell_type": "code",
   "execution_count": 32,
   "metadata": {},
   "outputs": [
    {
     "name": "stdout",
     "output_type": "stream",
     "text": [
      "Beneficio promedio de ganancias en submuestra de region '0': 108378931.45879172\n",
      "El intervalo de confianza para las ganancias en la region '0' es entre 103667392.15239125 y 113262422.44196674 millones\n",
      "Riesgo de pérdidas en región '0': 0.0 %\n"
     ]
    }
   ],
   "source": [
    "#calcular beneficio promedio, riesgos e intervalo de confianza en region 0\n",
    "revenue_subsamples_0, revenue_subsamples_mean_0, lower_quantile_0, upper_quantile_0, risk_percent_0 = confindece_risk_interval(predictions_to_revenue_0)\n",
    "\n",
    "print(\"Beneficio promedio de ganancias en submuestra de region '0':\", revenue_subsamples_mean_0)\n",
    "print(f\"El intervalo de confianza para las ganancias en la region '0' es entre {lower_quantile_0} y {upper_quantile_0} millones\")\n",
    "print(f\"Riesgo de pérdidas en región '0': {risk_percent_0} %\")"
   ]
  },
  {
   "cell_type": "markdown",
   "metadata": {},
   "source": [
    "### 6.2. Beneficios promedio y riesgo de pérdida en región 1"
   ]
  },
  {
   "cell_type": "code",
   "execution_count": 33,
   "metadata": {},
   "outputs": [
    {
     "name": "stdout",
     "output_type": "stream",
     "text": [
      "Beneficio promedio de ganancias en submuestra de region '1': 55522279.76908669\n",
      "El intervalo de confianza para las ganancias en la region '1' es entre 46675286.379325345 y 64051241.91975471 millones\n",
      "Riesgo de pérdidas en región '1': 1.19 %\n"
     ]
    }
   ],
   "source": [
    "#calcular beneficio promedio, riesgos e intervalo de confianza en region 1\n",
    "\n",
    "revenue_subsamples_1, revenue_subsamples_mean_1, lower_quantile_1, upper_quantile_1, risk_percent_1 = confindece_risk_interval(predictions_to_revenue_1)\n",
    "\n",
    "print(\"Beneficio promedio de ganancias en submuestra de region '1':\", revenue_subsamples_mean_1)\n",
    "print(f\"El intervalo de confianza para las ganancias en la region '1' es entre {lower_quantile_1} y {upper_quantile_1} millones\")\n",
    "print(f\"Riesgo de pérdidas en región '1': {risk_percent_1} %\")"
   ]
  },
  {
   "cell_type": "markdown",
   "metadata": {},
   "source": [
    "### 6.3. Beneficios promedio y riesgo de pérdida en región 2"
   ]
  },
  {
   "cell_type": "code",
   "execution_count": 34,
   "metadata": {},
   "outputs": [
    {
     "name": "stdout",
     "output_type": "stream",
     "text": [
      "Beneficio promedio de ganancias en submuestra de region '2': 114226838.48281623\n",
      "El intervalo de confianza para las ganancias en la region '2' es entre 110418952.10991834 y 118080680.3394517 millones\n",
      "Riesgo de pérdidas en región '2': 0.0 %\n"
     ]
    }
   ],
   "source": [
    "#calcular beneficio promedio, riesgos e intervalo de confianza en region 2\n",
    "\n",
    "revenue_subsamples_2, revenue_subsamples_mean_2, lower_quantile_2, upper_quantile_2, risk_percent_2 = confindece_risk_interval(predictions_to_revenue_2)\n",
    "\n",
    "print(\"Beneficio promedio de ganancias en submuestra de region '2':\", revenue_subsamples_mean_2)\n",
    "print(f\"El intervalo de confianza para las ganancias en la region '2' es entre {lower_quantile_2} y {upper_quantile_2} millones\")\n",
    "print(f\"Riesgo de pérdidas en región '2': {risk_percent_2} %\")"
   ]
  },
  {
   "cell_type": "markdown",
   "metadata": {},
   "source": [
    "## 7. Visualización "
   ]
  },
  {
   "cell_type": "markdown",
   "metadata": {},
   "source": [
    "## 7.1. Ganancia promedio por región"
   ]
  },
  {
   "cell_type": "code",
   "execution_count": 40,
   "metadata": {},
   "outputs": [
    {
     "data": {
      "image/png": "[encoded data removed]",
      "text/plain": [
       "<Figure size 1000x600 with 1 Axes>"
      ]
     },
     "metadata": {},
     "output_type": "display_data"
    }
   ],
   "source": [
    "# Ganancias promedio por región\n",
    "regiones = ['Región 0', 'Región 1', 'Región 2']\n",
    "revenue_mean_values = [revenue_subsamples_mean_0, revenue_subsamples_mean_1, revenue_subsamples_mean_2]  # Beneficios promedio de cada región\n",
    "\n",
    "# Ordenar regiones y valores de beneficios juntos, de mayor a menor\n",
    "regiones_revenue = sorted(zip(regiones, revenue_mean_values), key=lambda x: x[1], reverse=True)\n",
    "regiones_sorted, revenue_mean_values_sorted = zip(*regiones_revenue)\n",
    "\n",
    "# Crear el gráfico de barras\n",
    "plt.figure(figsize=(10, 6))\n",
    "plt.bar(regiones_sorted, revenue_mean_values_sorted, color='#40E0D0')  # Cambiado a color coral\n",
    "\n",
    "# Títulos y etiquetas\n",
    "plt.title('Comparación de Beneficio Promedio entre Regiones', fontsize=14)\n",
    "plt.xlabel('Regiones', fontsize=12)\n",
    "plt.ylabel('Beneficio Promedio (Millones USD)', fontsize=12)\n",
    "\n",
    "# Mostrar el gráfico\n",
    "plt.show()\n"
   ]
  },
  {
   "cell_type": "markdown",
   "metadata": {},
   "source": [
    "## 7.2. Porcentaje de pérdida por región"
   ]
  },
  {
   "cell_type": "code",
   "execution_count": 38,
   "metadata": {},
   "outputs": [
    {
     "data": {
      "image/png": "[encoded data removed]",
      "text/plain": [
       "<Figure size 1000x600 with 1 Axes>"
      ]
     },
     "metadata": {},
     "output_type": "display_data"
    }
   ],
   "source": [
    "# Ganancias promedio por región\n",
    "regiones = ['Región 0', 'Región 1', 'Región 2']\n",
    "risk_percent_values = [risk_percent_0, risk_percent_1, risk_percent_2]  # Porcentaje de pérdida de cada región\n",
    "\n",
    "# Ordenar regiones y valores de riesgo juntos, de mayor a menor\n",
    "regiones_risk = sorted(zip(regiones, risk_percent_values), key=lambda x: x[1], reverse=True)\n",
    "regiones_sorted, risk_percent_values_sorted = zip(*regiones_risk)\n",
    "\n",
    "# Crear el gráfico de barras\n",
    "plt.figure(figsize=(10, 6))\n",
    "plt.bar(regiones_sorted, risk_percent_values_sorted, color='#FF7F50')  # Cambiado a color coral\n",
    "\n",
    "# Títulos y etiquetas\n",
    "plt.title('Comparación de Porcentaje de Pérdida entre Regiones', fontsize=14)\n",
    "plt.xlabel('Regiones', fontsize=12)\n",
    "plt.ylabel('Porcentaje de pérdida', fontsize=12)\n",
    "\n",
    "# Mostrar el gráfico\n",
    "plt.show()\n"
   ]
  },
  {
   "cell_type": "markdown",
   "metadata": {},
   "source": [
    "## 8. Conclusiones generales\n",
    "\n",
    "Para empezar, realicé un análisis exploratorio y limpieza de los datasets, eliminando duplicados y asegurando que no hubiera datos ausentes. Durante este proceso, observé que los datasets de las regiones 0 y 2 presentaban una distribución normal, mientras que el dataset de la región 1 mostró anomalías en dos de sus columnas, indicando una distribución no normal en esos datos.\n",
    "\n",
    "Para facilitar el trabajo y evitar la repetición de código, construí funciones clave que abarcaron la segmentación de los datos, el entrenamiento de un modelo de regresión lineal, el cálculo de ganancias en base a las predicciones, la creación de submuestras y la estimación de riesgos de pérdidas y ganancias promedio para cada región.\n",
    "\n",
    "Estas funciones permitieron realizar un análisis eficiente de los datos, generando histogramas que visualizan claramente las ganancias promedio en las tres regiones. A partir de los resultados, se determinó que la región más favorable para el desarrollo de pozos es la Región 2.\n",
    "\n",
    "La Región 2 ofrece un beneficio potencial de aproximadamente 114 millones de dólares, con un riesgo de pérdidas prácticamente nulo (0.0%). Por lo tanto, se concluye que esta es la mejor opción para la compañía, ya que garantiza un alto margen de ganancias y minimiza el riesgo de inversión."
   ]
  }
 ],
 "metadata": {
  "kernelspec": {
   "display_name": "Python 3",
   "language": "python",
   "name": "python3"
  },
  "language_info": {
   "codemirror_mode": {
    "name": "ipython",
    "version": 3
   },
   "file_extension": ".py",
   "mimetype": "text/x-python",
   "name": "python",
   "nbconvert_exporter": "python",
   "pygments_lexer": "ipython3",
   "version": "3.12.2"
  }
 },
 "nbformat": 4,
 "nbformat_minor": 2
}
